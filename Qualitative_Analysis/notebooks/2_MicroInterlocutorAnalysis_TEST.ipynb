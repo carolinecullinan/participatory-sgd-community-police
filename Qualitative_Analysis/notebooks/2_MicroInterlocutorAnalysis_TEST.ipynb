{
 "cells": [
  {
   "cell_type": "markdown",
   "id": "3da6903a",
   "metadata": {},
   "source": [
    "### Qualitative Data Analysis: MicroInterlocutor Analysis"
   ]
  },
  {
   "cell_type": "markdown",
   "id": "8e3bcff9",
   "metadata": {},
   "source": [
    "##### Doing qualitative data analysis with micro interlocutor analysis on Observation Protocol Notes relevant to the group semi-structured interview questions"
   ]
  },
  {
   "cell_type": "markdown",
   "id": "b8742432",
   "metadata": {},
   "source": [
    "###### 27/07/2021 at 20:21 CEST"
   ]
  },
  {
   "cell_type": "code",
   "execution_count": 1,
   "id": "a3b34f65",
   "metadata": {},
   "outputs": [
    {
     "name": "stderr",
     "output_type": "stream",
     "text": [
      "C:\\Users\\Carol\\Anaconda3\\lib\\site-packages\\outdated\\utils.py:18: OutdatedCheckFailedWarning:\n",
      "\n",
      "Failed to check for latest version of package.\n",
      "Set the environment variable OUTDATED_RAISE_EXCEPTION=1 for a full traceback.\n",
      "Set the environment variable OUTDATED_IGNORE=1 to disable these warnings.\n",
      "\n"
     ]
    }
   ],
   "source": [
    "# import necessary libraries\n",
    "import os\n",
    "import random\n",
    "import pandas as pd\n",
    "import numpy as np\n",
    "import matplotlib.pyplot as plt\n",
    "import matplotlib\n",
    "import seaborn as sns\n",
    "import plotly.express as px\n",
    "plt.style.use('seaborn-pastel')\n",
    "import pingouin as pg\n",
    "from pingouin import ancova\n",
    "\n",
    "# import stats from scipy\n",
    "from scipy import stats\n",
    "\n",
    "# import the clean text libary\n",
    "from cleantext import clean"
   ]
  },
  {
   "cell_type": "code",
   "execution_count": null,
   "id": "6e4a5f53",
   "metadata": {},
   "outputs": [],
   "source": [
    "# change working directory to a specified directory\n",
    "os.chdir('../')\n",
    "print(\"Directory Changes\")\n",
    "\n",
    "# Get current working directory\n",
    "cwd = os.getcwd()\n",
    "print(\"Current working directory is:\", cwd)"
   ]
  },
  {
   "cell_type": "markdown",
   "id": "3cbb420a",
   "metadata": {},
   "source": [
    "### Data Cleaning and Preparation"
   ]
  },
  {
   "cell_type": "code",
   "execution_count": null,
   "id": "7fbbb7ba",
   "metadata": {},
   "outputs": [],
   "source": [
    "# read in csv data\n",
    "mi_loa = pd.read_csv(\"data/raw/.csv\")\n",
    "mi_beta = pd.read_csv(\"data/raw/.csv\")\n"
   ]
  },
  {
   "cell_type": "code",
   "execution_count": null,
   "id": "59c2eba8",
   "metadata": {},
   "outputs": [],
   "source": [
    "# gain insight into data\n",
    "mi_loa"
   ]
  }
 ],
 "metadata": {
  "kernelspec": {
   "display_name": "Python 3",
   "language": "python",
   "name": "python3"
  },
  "language_info": {
   "codemirror_mode": {
    "name": "ipython",
    "version": 3
   },
   "file_extension": ".py",
   "mimetype": "text/x-python",
   "name": "python",
   "nbconvert_exporter": "python",
   "pygments_lexer": "ipython3",
   "version": "3.7.3"
  }
 },
 "nbformat": 4,
 "nbformat_minor": 5
}
